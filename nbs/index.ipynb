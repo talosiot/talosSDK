{
 "cells": [
  {
   "cell_type": "code",
   "execution_count": null,
   "metadata": {},
   "outputs": [
    {
     "name": "stdout",
     "output_type": "stream",
     "text": [
      "Requirement already satisfied: requests in /home/ubuntu/talosSDK/.venv/lib/python3.8/site-packages (2.22.0)\n",
      "Requirement already satisfied: idna<2.9,>=2.5 in /home/ubuntu/talosSDK/.venv/lib/python3.8/site-packages (from requests) (2.8)\n",
      "Requirement already satisfied: certifi>=2017.4.17 in /home/ubuntu/talosSDK/.venv/lib/python3.8/site-packages (from requests) (2020.12.5)\n",
      "Requirement already satisfied: urllib3!=1.25.0,!=1.25.1,<1.26,>=1.21.1 in /home/ubuntu/talosSDK/.venv/lib/python3.8/site-packages (from requests) (1.25.11)\n",
      "Requirement already satisfied: chardet<3.1.0,>=3.0.2 in /home/ubuntu/talosSDK/.venv/lib/python3.8/site-packages (from requests) (3.0.4)\n"
     ]
    }
   ],
   "source": [
    "#hide\n",
    "!pip install requests"
   ]
  },
  {
   "cell_type": "code",
   "execution_count": null,
   "metadata": {},
   "outputs": [],
   "source": [
    "import os\n",
    "import requests"
   ]
  },
  {
   "cell_type": "markdown",
   "metadata": {},
   "source": [
    "# Talos SDK \n",
    "\n",
    "> Get up and running with the Talos cloud"
   ]
  },
  {
   "cell_type": "markdown",
   "metadata": {},
   "source": [
    "## Install"
   ]
  },
  {
   "cell_type": "markdown",
   "metadata": {},
   "source": [
    "You'll need python and virtualenv installed.  From there you can run the following to get a jupyter notebook up and running and follow along with the rest of this tour."
   ]
  },
  {
   "cell_type": "markdown",
   "metadata": {},
   "source": [
    "```bash\n",
    "git clone git@github.com:talosiot/talosSDK.git\n",
    "cd talosSDK\n",
    "make env\n",
    "make server\n",
    "```"
   ]
  },
  {
   "cell_type": "markdown",
   "metadata": {},
   "source": [
    "## General Organization"
   ]
  },
  {
   "cell_type": "markdown",
   "metadata": {},
   "source": [
    "Starting from the highest level of organization, let's define a few terms:\n",
    "\n",
    "- An Organization is a collection of one or more Owners. \n",
    "- An Owner is a company that is responsible for real estate.\n",
    "- An Address represents a single street address or building.  An Address may have many Locations or Equipment within it.\n",
    "- A Location represents a place within an Address such as a rooftop, the second floor, or the basement.  A Location may itself have many Locations or Equipment within it.\n",
    "\n",
    "For example, Acme Group is an Organization.  It has two Owners, Beta Co. and Charlie Co.  Beta Co. owns a building (Address) at 123 Main St, which has Equipment on the first floor (Location) and the roof (Location).\n"
   ]
  },
  {
   "cell_type": "markdown",
   "metadata": {},
   "source": [
    "## Guided Tour"
   ]
  },
  {
   "cell_type": "markdown",
   "metadata": {},
   "source": [
    "Get the API key that you were provided and fill it in below.  Or, set it as the environment variable `TALOS_API_KEY`"
   ]
  },
  {
   "cell_type": "code",
   "execution_count": null,
   "metadata": {},
   "outputs": [],
   "source": [
    "api_key = '' #viewer key org 2\n",
    "api_key = os.environ.get(\"TALOS_API_KEY\", api_key)\n",
    "header = {\"Authorization\": \"Bearer {}\".format(api_key)}"
   ]
  },
  {
   "cell_type": "markdown",
   "metadata": {},
   "source": [
    "Edit the URL variable below to be the URL of the Talos server.  "
   ]
  },
  {
   "cell_type": "code",
   "execution_count": null,
   "metadata": {},
   "outputs": [],
   "source": [
    "URL = 'http://sandbox.talosiot.com'\n",
    "api_url = URL+\"/api/ale/v1\""
   ]
  },
  {
   "cell_type": "markdown",
   "metadata": {},
   "source": [
    "Create an owner"
   ]
  },
  {
   "cell_type": "code",
   "execution_count": null,
   "metadata": {},
   "outputs": [],
   "source": [
    "new_owner = {\"name\": \"My example owner\"}\n",
    "resp = requests.post(api_url+\"/owner\", json=new_owner, headers=header)"
   ]
  },
  {
   "cell_type": "code",
   "execution_count": null,
   "metadata": {},
   "outputs": [
    {
     "data": {
      "text/plain": [
       "{'created': True, 'eid': 'KhxPqYEdKBdTRLiHw3rMYh'}"
      ]
     },
     "execution_count": null,
     "metadata": {},
     "output_type": "execute_result"
    }
   ],
   "source": [
    "resp.json()"
   ]
  },
  {
   "cell_type": "markdown",
   "metadata": {},
   "source": [
    "The above line should say `{'created': True, 'eid': 'SomeStringHere'}`.  The eid is a unique identifier that you'll use to refer to that owner.  Everything (owners, addresses, equipment) all have a unique eid identifier.  For example, to get information about the owners later you can get a list of all your owner eids from the `/owners` endpoint"
   ]
  },
  {
   "cell_type": "code",
   "execution_count": null,
   "metadata": {},
   "outputs": [
    {
     "data": {
      "text/plain": [
       "['KhxPqYEdKBdTRLiHw3rMYh']"
      ]
     },
     "execution_count": null,
     "metadata": {},
     "output_type": "execute_result"
    }
   ],
   "source": [
    "all_owners_resp = requests.get(api_url+'/owners', headers=header)\n",
    "all_owners_resp.json()"
   ]
  },
  {
   "cell_type": "markdown",
   "metadata": {},
   "source": [
    "Then get the information about an individual owner from the endpoint `/owner` (singular) and using the query string `eid={}`"
   ]
  },
  {
   "cell_type": "code",
   "execution_count": null,
   "metadata": {},
   "outputs": [
    {
     "name": "stdout",
     "output_type": "stream",
     "text": [
      "{'eid': 'KhxPqYEdKBdTRLiHw3rMYh', 'grafana_org_id': 2, 'name': 'My example owner', 'type': 'owner'}\n"
     ]
    }
   ],
   "source": [
    "owner_eids = all_owners_resp.json()\n",
    "try:\n",
    "    owner_eid = owner_eids[0] #save the first of the owner eids\n",
    "    owners_resp = requests.get(api_url+'/owner?eid={}'.format(owner_eid), headers=header)\n",
    "    print(owners_resp.json())\n",
    "except IndexError:\n",
    "    print(\"No owners were found in the /owners request\")"
   ]
  },
  {
   "cell_type": "markdown",
   "metadata": {},
   "source": [
    "Using the owner's eid you can add Address, Location, and Equipment underneath that owner.  Start by creating an address.  Note you can also use a web UI to do everything below."
   ]
  },
  {
   "cell_type": "code",
   "execution_count": null,
   "metadata": {},
   "outputs": [],
   "source": [
    "new_address = dict(\n",
    "     owner_eid=owner_eid,\n",
    "     name=\"New address\", \n",
    "     city='Richmond', \n",
    "     state='VA', \n",
    "     street=\"123 Main St.\", \n",
    "     postcode=\"23058\", \n",
    "     desc='An example of creating a new building')\n",
    "\n",
    "new_address_resp = requests.post(api_url+'/address', headers=header, json=new_address)"
   ]
  },
  {
   "cell_type": "code",
   "execution_count": null,
   "metadata": {},
   "outputs": [],
   "source": [
    "main123_eid = new_address_resp.json()['eid']"
   ]
  },
  {
   "cell_type": "markdown",
   "metadata": {},
   "source": [
    "Its possible to look up these addresses later by the owner's eid."
   ]
  },
  {
   "cell_type": "code",
   "execution_count": null,
   "metadata": {},
   "outputs": [
    {
     "data": {
      "text/plain": [
       "[{'city': 'Richmond',\n",
       "  'desc': 'An example of creating a new building',\n",
       "  'eid': 'ggCjDuQiEobgXBm2ZujWmy',\n",
       "  'equipment': [],\n",
       "  'locations': [],\n",
       "  'name': 'New address',\n",
       "  'owner_eid': 'KhxPqYEdKBdTRLiHw3rMYh',\n",
       "  'postcode': '23058',\n",
       "  'state': 'VA',\n",
       "  'street': '123 Main St.'}]"
      ]
     },
     "execution_count": null,
     "metadata": {},
     "output_type": "execute_result"
    }
   ],
   "source": [
    "all_address_resp = requests.get(api_url+'/address?owner_eid={}'.format(owner_eid), headers=header)\n",
    "all_address_resp.json()"
   ]
  },
  {
   "cell_type": "markdown",
   "metadata": {},
   "source": [
    "Or by the eid of the address.  \n",
    "> Note: There is a known bug where this endpoint does not return the `owner_eid`"
   ]
  },
  {
   "cell_type": "code",
   "execution_count": null,
   "metadata": {},
   "outputs": [
    {
     "data": {
      "text/plain": [
       "[{'city': 'Richmond',\n",
       "  'desc': 'An example of creating a new building',\n",
       "  'eid': 'ggCjDuQiEobgXBm2ZujWmy',\n",
       "  'equipment': [],\n",
       "  'locations': [],\n",
       "  'name': 'New address',\n",
       "  'owner_eid': None,\n",
       "  'postcode': '23058',\n",
       "  'state': 'VA',\n",
       "  'street': '123 Main St.'}]"
      ]
     },
     "execution_count": null,
     "metadata": {},
     "output_type": "execute_result"
    }
   ],
   "source": [
    "single_address_resp = requests.get(api_url+'/address?eid={}'.format(main123_eid), headers=header)\n",
    "single_address_resp.json()"
   ]
  },
  {
   "cell_type": "markdown",
   "metadata": {},
   "source": [
    "Add a Location at the Address by specifying the eid as the `parent_eid`."
   ]
  },
  {
   "cell_type": "code",
   "execution_count": null,
   "metadata": {},
   "outputs": [],
   "source": [
    "new_location = dict(\n",
    "        name=\"123 Main - Rooftop\",\n",
    "        desc=\"The roof at 123 Main St.\",\n",
    "        parent_eid=main123_eid\n",
    "        )\n",
    "\n",
    "new_location_resp = requests.post(api_url+'/location', headers=header, json=new_location)"
   ]
  },
  {
   "cell_type": "code",
   "execution_count": null,
   "metadata": {},
   "outputs": [
    {
     "data": {
      "text/plain": [
       "'R5qeaq7kg4t4UqgZWorrke'"
      ]
     },
     "execution_count": null,
     "metadata": {},
     "output_type": "execute_result"
    }
   ],
   "source": [
    "main123_roof_eid = new_location_resp.json()['eid']\n",
    "main123_roof_eid"
   ]
  },
  {
   "cell_type": "markdown",
   "metadata": {},
   "source": [
    "Finally add a piece of Equipment at the Location.  Note you could have added the Equipment directly to the Address.  At present, we only support two equipment types: `Package` and `EmulatedHVAC`."
   ]
  },
  {
   "cell_type": "code",
   "execution_count": null,
   "metadata": {},
   "outputs": [],
   "source": [
    "new_equipment = dict(\n",
    "    name='Fake HVAC 1',\n",
    "    types=['EmulatedHVAC'], \n",
    "    make='Example', \n",
    "    model='Example Model', \n",
    "    serial='123', \n",
    "    lat=37.605360056227276,\n",
    "    lng=-77.5610195200356,\n",
    "    location_eid=main123_roof_eid,\n",
    "    desc='Fake RTU')\n",
    "\n",
    "new_equip_resp = requests.post(api_url+'/equipment', headers=header, json=new_equipment)"
   ]
  },
  {
   "cell_type": "code",
   "execution_count": null,
   "metadata": {},
   "outputs": [
    {
     "data": {
      "text/plain": [
       "{'created': True, 'eid': '2FkiYWjXEnRBoXiF6LZwzj'}"
      ]
     },
     "execution_count": null,
     "metadata": {},
     "output_type": "execute_result"
    }
   ],
   "source": [
    "new_equip_resp.json()"
   ]
  },
  {
   "cell_type": "code",
   "execution_count": null,
   "metadata": {},
   "outputs": [
    {
     "data": {
      "text/plain": [
       "'2FkiYWjXEnRBoXiF6LZwzj'"
      ]
     },
     "execution_count": null,
     "metadata": {},
     "output_type": "execute_result"
    }
   ],
   "source": [
    "new_equip_eid = new_equip_resp.json()['eid']\n",
    "new_equip_eid"
   ]
  },
  {
   "cell_type": "markdown",
   "metadata": {},
   "source": [
    "Now that we've created some Locations and Equipment, let's make sure its all still there.  You can retrieve everything \"downstream\" of an Address or Location."
   ]
  },
  {
   "cell_type": "code",
   "execution_count": null,
   "metadata": {},
   "outputs": [],
   "source": [
    "downstream_resp = requests.get(api_url+'/location/downstream?eid={}'.format(main123_eid), headers=header)"
   ]
  },
  {
   "cell_type": "code",
   "execution_count": null,
   "metadata": {},
   "outputs": [
    {
     "data": {
      "text/plain": [
       "{'equipment': [],\n",
       " 'locations': [{'desc': 'The roof at 123 Main St.',\n",
       "   'eid': 'R5qeaq7kg4t4UqgZWorrke',\n",
       "   'equipment': [{'desc': '',\n",
       "     'eid': '4eWpciYAfaUHMfgGvZVM3b',\n",
       "     'is_critical': False,\n",
       "     'lat': 37.605360056227276,\n",
       "     'lng': -77.5610195200356,\n",
       "     'location_eid': 'R5qeaq7kg4t4UqgZWorrke',\n",
       "     'make': 'Example',\n",
       "     'model': 'Example Model',\n",
       "     'name': 'Fake HVAC 1',\n",
       "     'serial': '123',\n",
       "     'type': 'equipment',\n",
       "     'types': ['EmulatedHVAC']},\n",
       "    {'desc': '',\n",
       "     'eid': '2FkiYWjXEnRBoXiF6LZwzj',\n",
       "     'is_critical': False,\n",
       "     'lat': 37.605360056227276,\n",
       "     'lng': -77.5610195200356,\n",
       "     'location_eid': 'R5qeaq7kg4t4UqgZWorrke',\n",
       "     'make': 'Example',\n",
       "     'model': 'Example Model',\n",
       "     'name': 'Fake HVAC 1',\n",
       "     'serial': '123',\n",
       "     'type': 'equipment',\n",
       "     'types': ['EmulatedHVAC']}],\n",
       "   'locations': [],\n",
       "   'name': '123 Main - Rooftop',\n",
       "   'parent_eid': 'ggCjDuQiEobgXBm2ZujWmy',\n",
       "   'type': 'location'}]}"
      ]
     },
     "execution_count": null,
     "metadata": {},
     "output_type": "execute_result"
    }
   ],
   "source": [
    "downstream_resp.json()"
   ]
  },
  {
   "cell_type": "markdown",
   "metadata": {},
   "source": [
    "There it is!  The nested structure contains the Location, which itself contains the Equipment."
   ]
  },
  {
   "cell_type": "markdown",
   "metadata": {},
   "source": [
    "## Install a webhook"
   ]
  },
  {
   "cell_type": "markdown",
   "metadata": {},
   "source": [
    "Lets install a webhook that will receive the alerts as they are fired.  A webhook will receive all alerts for all equipment \"downstream\" of it.  E.g., attaching a webhook to a single piece of equipment will give you all alerts for that equipment.  Attaching a webhook to a location gives you all alerts for all Equipment at that location (and any attached locations)."
   ]
  },
  {
   "cell_type": "code",
   "execution_count": null,
   "metadata": {},
   "outputs": [
    {
     "name": "stdout",
     "output_type": "stream",
     "text": [
      "200\n",
      "{'eid': 'm59qtg8uJxePufkMrbn5HJ', 'linked_eids': ['ggCjDuQiEobgXBm2ZujWmy'], 'name': 'My webhook'}\n"
     ]
    }
   ],
   "source": [
    "URL_OF_YOUR_WEBHOOK = 'http://YOUR_SERVER_HERE'\n",
    "PORT_OF_YOUR_WEBHOOK = 8888  #put yout port number here\n",
    "\n",
    "\n",
    "webhook = {'name': 'My webhook', \n",
    "           'url':'{}:{}'.format(URL_OF_YOUR_WEBHOOK, PORT_OF_YOUR_WEBHOOK), \n",
    "           'linked_eids':[main123_eid]\n",
    "          }\n",
    "create_webhook_resp = requests.post(api_url+'/webhook', json=webhook, headers=header)\n",
    "#resp = requests.get(api_url+\"/webhook?eid=abcd\"+'/webhook')\n",
    "print(create_webhook_resp.status_code)\n",
    "print(create_webhook_resp.json())"
   ]
  },
  {
   "cell_type": "code",
   "execution_count": null,
   "metadata": {},
   "outputs": [],
   "source": [
    "webhook_eid = create_webhook_resp.json()['eid']"
   ]
  },
  {
   "cell_type": "markdown",
   "metadata": {},
   "source": [
    "Retrieve information about a webhook"
   ]
  },
  {
   "cell_type": "code",
   "execution_count": null,
   "metadata": {},
   "outputs": [
    {
     "name": "stdout",
     "output_type": "stream",
     "text": [
      "200\n",
      "{'eid': 'm59qtg8uJxePufkMrbn5HJ', 'linked_eids': ['ggCjDuQiEobgXBm2ZujWmy'], 'name': 'My webhook'}\n"
     ]
    }
   ],
   "source": [
    "resp = requests.get(api_url+\"/webhook?eid={}\".format(webhook_eid), headers=header)\n",
    "print(resp.status_code)\n",
    "print(resp.json())"
   ]
  },
  {
   "cell_type": "markdown",
   "metadata": {},
   "source": [
    "## Trigger an alarm"
   ]
  },
  {
   "cell_type": "markdown",
   "metadata": {},
   "source": [
    "In normal operation, alarms trigger automatically from the data coming off the sensor, but here we'll want to test the alarms.  "
   ]
  },
  {
   "cell_type": "code",
   "execution_count": null,
   "metadata": {},
   "outputs": [
    {
     "name": "stdout",
     "output_type": "stream",
     "text": [
      "200\n",
      "{'iid': '8ZWlRFfkQzC8ynL6r7jk0g'}\n"
     ]
    }
   ],
   "source": [
    "#alarm_url = 'http://localhost:11112'\n",
    "repairs_url = URL+'/api/repairs/v1'\n",
    "resp = requests.post(repairs_url+'/',json={'alert_name': 'OFM_broken', 'eid': new_equip_eid, 'force_new': True})\n",
    "print(resp.status_code)\n",
    "print(resp.json())"
   ]
  },
  {
   "cell_type": "code",
   "execution_count": null,
   "metadata": {},
   "outputs": [],
   "source": [
    "incident_id = resp.json()['iid']"
   ]
  },
  {
   "cell_type": "markdown",
   "metadata": {},
   "source": [
    "Get the active alarms"
   ]
  },
  {
   "cell_type": "code",
   "execution_count": null,
   "metadata": {},
   "outputs": [
    {
     "name": "stdout",
     "output_type": "stream",
     "text": [
      "http://sandbox.talosiot.com/api/repairs/v1/2FkiYWjXEnRBoXiF6LZwzj/active\n",
      "200\n",
      "['8ZWlRFfkQzC8ynL6r7jk0g', 'JVuOPPHlQq2wA4hN2KVTIQ']\n"
     ]
    }
   ],
   "source": [
    "get_alarms_endpoint = repairs_url+'/{eid}/{condition}'.format(eid=new_equip_eid, condition='active')\n",
    "print(get_alarms_endpoint)\n",
    "resp = requests.get(get_alarms_endpoint)\n",
    "print(resp.status_code)\n",
    "print(resp.json())"
   ]
  },
  {
   "cell_type": "markdown",
   "metadata": {},
   "source": [
    "Close the alarm with the incident_id"
   ]
  },
  {
   "cell_type": "code",
   "execution_count": null,
   "metadata": {},
   "outputs": [
    {
     "name": "stdout",
     "output_type": "stream",
     "text": [
      "200 [{'newevent': {'action': 'closed', 'ts': 1616699335}}]\n"
     ]
    }
   ],
   "source": [
    "resp = requests.post(repairs_url+'/close',json={'iid': incident_id})\n",
    "print(resp.status_code, resp.json())"
   ]
  },
  {
   "cell_type": "markdown",
   "metadata": {},
   "source": [
    "Get a record of what has happened with this alarm"
   ]
  },
  {
   "cell_type": "code",
   "execution_count": null,
   "metadata": {},
   "outputs": [
    {
     "name": "stdout",
     "output_type": "stream",
     "text": [
      "http://sandbox.talosiot.com/api/repairs/v1/events?iid=8ZWlRFfkQzC8ynL6r7jk0g\n",
      "200\n",
      "[{'action': 'started', 'ts': 1616693325}, {'action': 'closed', 'ts': 1616699335}]\n"
     ]
    }
   ],
   "source": [
    "events_endpoint = repairs_url+'/events?iid={}'.format(incident_id)\n",
    "resp = requests.get(events_endpoint)\n",
    "print(events_endpoint)\n",
    "print(resp.status_code)\n",
    "print(resp.json())"
   ]
  }
 ],
 "metadata": {
  "kernelspec": {
   "display_name": "Python 3",
   "language": "python",
   "name": "python3"
  },
  "language_info": {
   "codemirror_mode": {
    "name": "ipython",
    "version": 3
   },
   "file_extension": ".py",
   "mimetype": "text/x-python",
   "name": "python",
   "nbconvert_exporter": "python",
   "pygments_lexer": "ipython3",
   "version": "3.8.0"
  }
 },
 "nbformat": 4,
 "nbformat_minor": 4
}
